{
 "cells": [
  {
   "cell_type": "code",
   "execution_count": 1,
   "id": "9cf30132",
   "metadata": {},
   "outputs": [
    {
     "name": "stdout",
     "output_type": "stream",
     "text": [
      "Enter the size of list : 6\n",
      "Enter element : 1\n",
      "Enter element : 2\n",
      "Enter element : 3\n",
      "Enter element : 4\n",
      "Enter element : 5\n",
      "Enter element : 6\n",
      "The list after normalisation is :\n",
      "0.0\n",
      "0.2\n",
      "0.4\n",
      "0.6\n",
      "0.8\n",
      "1.0\n"
     ]
    }
   ],
   "source": [
    "n = int(input(\"Enter the size of list : \"))\n",
    "list = []\n",
    "for i in range(n):\n",
    "    tmp = int(input(\"Enter element : \"))\n",
    "    list.append(tmp)\n",
    "\n",
    "Min = min(list)\n",
    "Max = max(list)\n",
    "\n",
    "for i in range(n):\n",
    "    list[i] = (list[i] - Min) / (Max - Min)\n",
    "print(\"The list after normalisation is :\")\n",
    "for i in range(n):\n",
    "    print(list[i])"
   ]
  },
  {
   "cell_type": "code",
   "execution_count": 2,
   "id": "8385a26f",
   "metadata": {},
   "outputs": [
    {
     "name": "stdout",
     "output_type": "stream",
     "text": [
      "[[1.         0.        ]\n",
      " [0.04166667 0.49494949]\n",
      " [0.47916667 0.04040404]\n",
      " [0.875      0.06060606]\n",
      " [0.         1.        ]]\n"
     ]
    }
   ],
   "source": [
    "from numpy import asarray\n",
    "from sklearn.preprocessing import MinMaxScaler\n",
    "\n",
    "data = asarray([[100, 0.001], [8, 0.05], [50, 0.005], [88, 0.007], [4, 0.1]])\n",
    "Scaler = MinMaxScaler()\n",
    "Scaled = Scaler.fit_transform(data)\n",
    "print(Scaled)"
   ]
  },
  {
   "cell_type": "code",
   "execution_count": 3,
   "id": "a6f98a34",
   "metadata": {},
   "outputs": [
    {
     "name": "stdout",
     "output_type": "stream",
     "text": [
      "[[1.         0.        ]\n",
      " [0.04166667 0.49494949]\n",
      " [0.47916667 0.04040404]\n",
      " [0.875      0.06060606]\n",
      " [0.         1.        ]]\n"
     ]
    }
   ],
   "source": [
    "list2 = [[100, 0.001], [8, 0.05], [50, 0.005], [88, 0.007], [4, 0.1]]\n",
    "max1 = list2[0][0]\n",
    "max2 = list2[0][1]\n",
    "min1 = list2[0][0]\n",
    "min2 = list2[0][1]\n",
    "\n",
    "for i in range(5):\n",
    "    for j in range(2):\n",
    "        if(j == 0):\n",
    "            if(list2[i][j] > max1):\n",
    "                max1 = list2[i][j]\n",
    "        \n",
    "            if(list2[i][j] < min1):\n",
    "                min1 = list2[i][j]\n",
    "            \n",
    "        else:\n",
    "            if(list2[i][j] > max2):\n",
    "                max2 = list2[i][j]\n",
    "        \n",
    "            if(list2[i][j] < min2):\n",
    "                min2 = list2[i][j]\n",
    "                \n",
    "\n",
    "for i in range(5):\n",
    "    for j in range(2):\n",
    "        if(j == 0):\n",
    "            list2[i][j] = (list2[i][j] - min1) / (max1 - min1)\n",
    "        else:\n",
    "            list2[i][j] = (list2[i][j] - min2) / (max2 - min2)\n",
    "\n",
    "data2 = asarray(list2)\n",
    "print(data2)"
   ]
  },
  {
   "cell_type": "code",
   "execution_count": 4,
   "id": "44526da5",
   "metadata": {},
   "outputs": [
    {
     "name": "stdout",
     "output_type": "stream",
     "text": [
      "Standard Deviation of sample is 1.5811388300841898 \n"
     ]
    }
   ],
   "source": [
    "import statistics\n",
    "sample = [1,2,3,4,5]\n",
    "print(\"Standard Deviation of sample is % s \" % (statistics.stdev(sample)))"
   ]
  },
  {
   "cell_type": "code",
   "execution_count": 5,
   "id": "c2691132",
   "metadata": {},
   "outputs": [
    {
     "name": "stdout",
     "output_type": "stream",
     "text": [
      "[ 0.23847308 -0.86336251 -0.19497876  0.68673767 -0.3840151 ]\n",
      "<built-in method mean of numpy.ndarray object at 0x000001BD710AFC30>\n"
     ]
    }
   ],
   "source": [
    "import numpy as np\n",
    "x = np.random.normal(loc=0, scale=1, size=5)\n",
    "print(x)\n",
    "print(x.mean)"
   ]
  },
  {
   "cell_type": "code",
   "execution_count": null,
   "id": "47f01526",
   "metadata": {},
   "outputs": [],
   "source": []
  }
 ],
 "metadata": {
  "kernelspec": {
   "display_name": "Python 3",
   "language": "python",
   "name": "python3"
  },
  "language_info": {
   "codemirror_mode": {
    "name": "ipython",
    "version": 3
   },
   "file_extension": ".py",
   "mimetype": "text/x-python",
   "name": "python",
   "nbconvert_exporter": "python",
   "pygments_lexer": "ipython3",
   "version": "3.8.8"
  }
 },
 "nbformat": 4,
 "nbformat_minor": 5
}
